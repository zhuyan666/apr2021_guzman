{
 "cells": [
  {
   "cell_type": "code",
   "execution_count": 6,
   "metadata": {},
   "outputs": [],
   "source": [
    "from selenium import webdriver\n",
    "import time\n",
    "from calendar import monthrange\n",
    "import calendar\n",
    "from datetime import datetime"
   ]
  },
  {
   "cell_type": "code",
   "execution_count": 87,
   "metadata": {},
   "outputs": [],
   "source": [
    "def get_hours(iso, peak_type, period):\n",
    "    \n",
    "    url = 'https://www.energygps.com/HomeTools/PowerCalendar'\n",
    "\n",
    "    chrome_options = webdriver.ChromeOptions()\n",
    "    driver = webdriver.Chrome('./chromedriver.exe', options=chrome_options) \n",
    "    driver.get(url)\n",
    "    time.sleep(2) \n",
    "\n",
    "    input_startDate = driver.find_element_by_id('startDate')\n",
    "    input_endDate = driver.find_element_by_id('endDate')\n",
    "    \n",
    "    year = int(period[:4])\n",
    "    mon2id = {month: index for index, month in enumerate(calendar.month_abbr) if month}\n",
    "    if '-' in period:\n",
    "        f = 4\n",
    "        month = period.split('-')[1]\n",
    "        day = monthrange(year, period.split('-')[1])[1]\n",
    "        start = datetime(year, month, 1)\n",
    "        end = datetime(year, month, monthrange(year, period.split('-')[1])[1])\n",
    "    elif 'Q' in period:\n",
    "        f = 10\n",
    "        q = int(period[-1])\n",
    "        start = datetime(year, 3*q-2, 1)\n",
    "        end = datetime(year, 3*q, monthrange(year, 3*q)[1])\n",
    "    elif 'A' in period:\n",
    "        f = 26\n",
    "        start = datetime(year, 1, 1)\n",
    "        end = datetime(year, 12, 1)\n",
    "    else:\n",
    "        f = 4\n",
    "        m = mon2id[period[4:]]\n",
    "        start = datetime(year, m, 1)\n",
    "        end = datetime(year, m, monthrange(year, m)[1])\n",
    "    \n",
    "    input_startDate.clear()\n",
    "    input_startDate.send_keys(start.strftime('%m/%d/%Y'))\n",
    "    input_endDate.clear()\n",
    "    input_endDate.send_keys(end.strftime('%m/%d/%Y'))\n",
    "    \n",
    "    select_region = driver.find_element_by_xpath(\"//*[@id='isoregion']/option[text()='\" + iso + \"']\")\n",
    "    select_region.click()\n",
    "\n",
    "    view_button = driver.find_element_by_xpath('//*[@id=\"main\"]/form/table/tbody/tr[2]/td[4]/input[1]')\n",
    "    view_button.click()\n",
    "\n",
    "    if peak_type == 'onpeak':\n",
    "        ith = 4\n",
    "    elif peak_type == 'offpeak':\n",
    "        ith = 5\n",
    "    else:\n",
    "        ith = 3\n",
    "    if 'A' in period:\n",
    "        ith -= 1\n",
    "    hours = driver.find_element_by_xpath('//*[@id=\"main\"]/table[2]/tbody/tr/td[1]/table/tbody/tr[' + str(f) + ']/td[' + str(ith) + ']').text\n",
    "    return(hours, peak_type, start.strftime('%m/%d/%Y'), end.strftime('%m/%d/%Y'))"
   ]
  },
  {
   "cell_type": "code",
   "execution_count": 88,
   "metadata": {},
   "outputs": [
    {
     "data": {
      "text/plain": [
       "('352', 'onpeak', '05/01/2019', '05/31/2019')"
      ]
     },
     "execution_count": 88,
     "metadata": {},
     "output_type": "execute_result"
    }
   ],
   "source": [
    "get_hours('ERCOT', 'onpeak', '2019May')"
   ]
  },
  {
   "cell_type": "code",
   "execution_count": null,
   "metadata": {},
   "outputs": [],
   "source": []
  }
 ],
 "metadata": {
  "kernelspec": {
   "display_name": "Python 3",
   "language": "python",
   "name": "python3"
  },
  "language_info": {
   "codemirror_mode": {
    "name": "ipython",
    "version": 3
   },
   "file_extension": ".py",
   "mimetype": "text/x-python",
   "name": "python",
   "nbconvert_exporter": "python",
   "pygments_lexer": "ipython3",
   "version": "3.7.3"
  }
 },
 "nbformat": 4,
 "nbformat_minor": 2
}
