{
 "cells": [
  {
   "cell_type": "code",
   "execution_count": 23,
   "metadata": {},
   "outputs": [],
   "source": [
    "import pandas as pd\n",
    "import numpy as np\n",
    "import matplotlib.pyplot as plt\n",
    "\n",
    "%matplotlib inline"
   ]
  },
  {
   "cell_type": "markdown",
   "metadata": {},
   "source": [
    "## EDA"
   ]
  },
  {
   "cell_type": "code",
   "execution_count": 88,
   "metadata": {
    "scrolled": true
   },
   "outputs": [],
   "source": [
    "df = pd.read_excel('../data/timeseries_data.xlsx', parse_dates=[0]).dropna()"
   ]
  },
  {
   "cell_type": "code",
   "execution_count": 89,
   "metadata": {
    "scrolled": true
   },
   "outputs": [
    {
     "data": {
      "text/html": [
       "<div>\n",
       "<style scoped>\n",
       "    .dataframe tbody tr th:only-of-type {\n",
       "        vertical-align: middle;\n",
       "    }\n",
       "\n",
       "    .dataframe tbody tr th {\n",
       "        vertical-align: top;\n",
       "    }\n",
       "\n",
       "    .dataframe thead th {\n",
       "        text-align: right;\n",
       "    }\n",
       "</style>\n",
       "<table border=\"1\" class=\"dataframe\">\n",
       "  <thead>\n",
       "    <tr style=\"text-align: right;\">\n",
       "      <th></th>\n",
       "      <th>DATETIME</th>\n",
       "      <th>HB_NORTH (RTLMP)</th>\n",
       "      <th>ERCOT (WIND_RTI)</th>\n",
       "      <th>ERCOT (GENERATION_SOLAR_RT)</th>\n",
       "      <th>ERCOT (RTLOAD)</th>\n",
       "      <th>HOURENDING</th>\n",
       "      <th>MARKETDAY</th>\n",
       "      <th>PEAKTYPE</th>\n",
       "      <th>MONTH</th>\n",
       "      <th>YEAR</th>\n",
       "    </tr>\n",
       "  </thead>\n",
       "  <tbody>\n",
       "    <tr>\n",
       "      <td>0</td>\n",
       "      <td>2017-01-01 01:00:00</td>\n",
       "      <td>23.3575</td>\n",
       "      <td>2155.31</td>\n",
       "      <td>0.0</td>\n",
       "      <td>29485.791355</td>\n",
       "      <td>1</td>\n",
       "      <td>2017-01-01</td>\n",
       "      <td>OFFPEAK</td>\n",
       "      <td>JANUARY</td>\n",
       "      <td>2017</td>\n",
       "    </tr>\n",
       "    <tr>\n",
       "      <td>1</td>\n",
       "      <td>2017-01-01 02:00:00</td>\n",
       "      <td>21.4650</td>\n",
       "      <td>2313.81</td>\n",
       "      <td>0.0</td>\n",
       "      <td>28911.565913</td>\n",
       "      <td>2</td>\n",
       "      <td>2017-01-01</td>\n",
       "      <td>OFFPEAK</td>\n",
       "      <td>JANUARY</td>\n",
       "      <td>2017</td>\n",
       "    </tr>\n",
       "    <tr>\n",
       "      <td>2</td>\n",
       "      <td>2017-01-01 03:00:00</td>\n",
       "      <td>20.7350</td>\n",
       "      <td>2587.68</td>\n",
       "      <td>0.0</td>\n",
       "      <td>28238.258175</td>\n",
       "      <td>3</td>\n",
       "      <td>2017-01-01</td>\n",
       "      <td>OFFPEAK</td>\n",
       "      <td>JANUARY</td>\n",
       "      <td>2017</td>\n",
       "    </tr>\n",
       "    <tr>\n",
       "      <td>3</td>\n",
       "      <td>2017-01-01 04:00:00</td>\n",
       "      <td>20.2700</td>\n",
       "      <td>2748.65</td>\n",
       "      <td>0.0</td>\n",
       "      <td>27821.000513</td>\n",
       "      <td>4</td>\n",
       "      <td>2017-01-01</td>\n",
       "      <td>OFFPEAK</td>\n",
       "      <td>JANUARY</td>\n",
       "      <td>2017</td>\n",
       "    </tr>\n",
       "    <tr>\n",
       "      <td>4</td>\n",
       "      <td>2017-01-01 05:00:00</td>\n",
       "      <td>20.1200</td>\n",
       "      <td>2757.49</td>\n",
       "      <td>0.0</td>\n",
       "      <td>27646.942413</td>\n",
       "      <td>5</td>\n",
       "      <td>2017-01-01</td>\n",
       "      <td>OFFPEAK</td>\n",
       "      <td>JANUARY</td>\n",
       "      <td>2017</td>\n",
       "    </tr>\n",
       "  </tbody>\n",
       "</table>\n",
       "</div>"
      ],
      "text/plain": [
       "             DATETIME  HB_NORTH (RTLMP)  ERCOT (WIND_RTI)  \\\n",
       "0 2017-01-01 01:00:00           23.3575           2155.31   \n",
       "1 2017-01-01 02:00:00           21.4650           2313.81   \n",
       "2 2017-01-01 03:00:00           20.7350           2587.68   \n",
       "3 2017-01-01 04:00:00           20.2700           2748.65   \n",
       "4 2017-01-01 05:00:00           20.1200           2757.49   \n",
       "\n",
       "   ERCOT (GENERATION_SOLAR_RT)  ERCOT (RTLOAD)  HOURENDING  MARKETDAY  \\\n",
       "0                          0.0    29485.791355           1 2017-01-01   \n",
       "1                          0.0    28911.565913           2 2017-01-01   \n",
       "2                          0.0    28238.258175           3 2017-01-01   \n",
       "3                          0.0    27821.000513           4 2017-01-01   \n",
       "4                          0.0    27646.942413           5 2017-01-01   \n",
       "\n",
       "  PEAKTYPE    MONTH  YEAR  \n",
       "0  OFFPEAK  JANUARY  2017  \n",
       "1  OFFPEAK  JANUARY  2017  \n",
       "2  OFFPEAK  JANUARY  2017  \n",
       "3  OFFPEAK  JANUARY  2017  \n",
       "4  OFFPEAK  JANUARY  2017  "
      ]
     },
     "execution_count": 89,
     "metadata": {},
     "output_type": "execute_result"
    }
   ],
   "source": [
    "df.head()"
   ]
  },
  {
   "cell_type": "code",
   "execution_count": 90,
   "metadata": {},
   "outputs": [
    {
     "data": {
      "image/png": "[encoded data removed]",
      "text/plain": [
       "<Figure size 432x288 with 1 Axes>"
      ]
     },
     "metadata": {
      "needs_background": "light"
     },
     "output_type": "display_data"
    }
   ],
   "source": [
    "df['HB_NORTH (RTLMP)'].plot()\n",
    "plt.show()"
   ]
  },
  {
   "cell_type": "code",
   "execution_count": 91,
   "metadata": {},
   "outputs": [
    {
     "data": {
      "text/plain": [
       "WDPEAK     6964\n",
       "OFFPEAK    4993\n",
       "WEPEAK     3024\n",
       "Name: PEAKTYPE, dtype: int64"
      ]
     },
     "execution_count": 91,
     "metadata": {},
     "output_type": "execute_result"
    }
   ],
   "source": [
    "df.PEAKTYPE.value_counts()"
   ]
  },
  {
   "cell_type": "code",
   "execution_count": 92,
   "metadata": {},
   "outputs": [
    {
     "data": {
      "text/plain": [
       "2017    8757\n",
       "2018    6224\n",
       "Name: YEAR, dtype: int64"
      ]
     },
     "execution_count": 92,
     "metadata": {},
     "output_type": "execute_result"
    }
   ],
   "source": [
    "df.YEAR.value_counts()"
   ]
  },
  {
   "cell_type": "code",
   "execution_count": 93,
   "metadata": {},
   "outputs": [
    {
     "data": {
      "image/png": "[encoded data removed]",
      "text/plain": [
       "<Figure size 432x288 with 1 Axes>"
      ]
     },
     "metadata": {
      "needs_background": "light"
     },
     "output_type": "display_data"
    }
   ],
   "source": [
    "df['ERCOT (WIND_RTI)'].plot()\n",
    "plt.show()"
   ]
  },
  {
   "cell_type": "code",
   "execution_count": 94,
   "metadata": {},
   "outputs": [
    {
     "data": {
      "image/png": "[encoded data removed]",
      "text/plain": [
       "<Figure size 432x288 with 1 Axes>"
      ]
     },
     "metadata": {
      "needs_background": "light"
     },
     "output_type": "display_data"
    }
   ],
   "source": [
    "df['ERCOT (RTLOAD)'].plot()\n",
    "plt.show()"
   ]
  },
  {
   "cell_type": "markdown",
   "metadata": {},
   "source": [
    "## Feature Engineering"
   ]
  },
  {
   "cell_type": "code",
   "execution_count": 95,
   "metadata": {},
   "outputs": [],
   "source": [
    "y = df['HB_NORTH (RTLMP)']\n",
    "X = df.iloc[:,2:5]"
   ]
  },
  {
   "cell_type": "code",
   "execution_count": 96,
   "metadata": {},
   "outputs": [],
   "source": [
    "X = X.join(pd.get_dummies(df.PEAKTYPE, prefix='peaktype').iloc[:,:2])"
   ]
  },
  {
   "cell_type": "code",
   "execution_count": 97,
   "metadata": {},
   "outputs": [],
   "source": [
    "X = X.join(pd.get_dummies(pd.to_datetime(df.DATETIME).dt.quarter, prefix='Q').iloc[:,:3])"
   ]
  },
  {
   "cell_type": "code",
   "execution_count": 98,
   "metadata": {},
   "outputs": [],
   "source": [
    "X['sin_day'] = np.sin((2*np.pi)/30*pd.to_datetime(df.MARKETDAY).dt.day)\n",
    "X['cos_day'] = np.cos((2*np.pi)/30*pd.to_datetime(df.MARKETDAY).dt.day)"
   ]
  },
  {
   "cell_type": "code",
   "execution_count": 99,
   "metadata": {},
   "outputs": [],
   "source": [
    "X['sin_hour'] = np.sin((2*np.pi)/24*df.HOURENDING)\n",
    "X['cos_hour'] = np.cos((2*np.pi)/24*df.HOURENDING)"
   ]
  },
  {
   "cell_type": "code",
   "execution_count": 101,
   "metadata": {},
   "outputs": [
    {
     "data": {
      "text/html": [
       "<div>\n",
       "<style scoped>\n",
       "    .dataframe tbody tr th:only-of-type {\n",
       "        vertical-align: middle;\n",
       "    }\n",
       "\n",
       "    .dataframe tbody tr th {\n",
       "        vertical-align: top;\n",
       "    }\n",
       "\n",
       "    .dataframe thead th {\n",
       "        text-align: right;\n",
       "    }\n",
       "</style>\n",
       "<table border=\"1\" class=\"dataframe\">\n",
       "  <thead>\n",
       "    <tr style=\"text-align: right;\">\n",
       "      <th></th>\n",
       "      <th>ERCOT (WIND_RTI)</th>\n",
       "      <th>ERCOT (GENERATION_SOLAR_RT)</th>\n",
       "      <th>ERCOT (RTLOAD)</th>\n",
       "      <th>peaktype_OFFPEAK</th>\n",
       "      <th>peaktype_WDPEAK</th>\n",
       "      <th>Q_1</th>\n",
       "      <th>Q_2</th>\n",
       "      <th>Q_3</th>\n",
       "      <th>sin_day</th>\n",
       "      <th>cos_day</th>\n",
       "      <th>sin_hour</th>\n",
       "      <th>cos_hour</th>\n",
       "    </tr>\n",
       "  </thead>\n",
       "  <tbody>\n",
       "    <tr>\n",
       "      <td>0</td>\n",
       "      <td>2155.31</td>\n",
       "      <td>0.0</td>\n",
       "      <td>29485.791355</td>\n",
       "      <td>1</td>\n",
       "      <td>0</td>\n",
       "      <td>1</td>\n",
       "      <td>0</td>\n",
       "      <td>0</td>\n",
       "      <td>0.207912</td>\n",
       "      <td>0.978148</td>\n",
       "      <td>0.258819</td>\n",
       "      <td>0.965926</td>\n",
       "    </tr>\n",
       "    <tr>\n",
       "      <td>1</td>\n",
       "      <td>2313.81</td>\n",
       "      <td>0.0</td>\n",
       "      <td>28911.565913</td>\n",
       "      <td>1</td>\n",
       "      <td>0</td>\n",
       "      <td>1</td>\n",
       "      <td>0</td>\n",
       "      <td>0</td>\n",
       "      <td>0.207912</td>\n",
       "      <td>0.978148</td>\n",
       "      <td>0.500000</td>\n",
       "      <td>0.866025</td>\n",
       "    </tr>\n",
       "    <tr>\n",
       "      <td>2</td>\n",
       "      <td>2587.68</td>\n",
       "      <td>0.0</td>\n",
       "      <td>28238.258175</td>\n",
       "      <td>1</td>\n",
       "      <td>0</td>\n",
       "      <td>1</td>\n",
       "      <td>0</td>\n",
       "      <td>0</td>\n",
       "      <td>0.207912</td>\n",
       "      <td>0.978148</td>\n",
       "      <td>0.707107</td>\n",
       "      <td>0.707107</td>\n",
       "    </tr>\n",
       "    <tr>\n",
       "      <td>3</td>\n",
       "      <td>2748.65</td>\n",
       "      <td>0.0</td>\n",
       "      <td>27821.000513</td>\n",
       "      <td>1</td>\n",
       "      <td>0</td>\n",
       "      <td>1</td>\n",
       "      <td>0</td>\n",
       "      <td>0</td>\n",
       "      <td>0.207912</td>\n",
       "      <td>0.978148</td>\n",
       "      <td>0.866025</td>\n",
       "      <td>0.500000</td>\n",
       "    </tr>\n",
       "    <tr>\n",
       "      <td>4</td>\n",
       "      <td>2757.49</td>\n",
       "      <td>0.0</td>\n",
       "      <td>27646.942413</td>\n",
       "      <td>1</td>\n",
       "      <td>0</td>\n",
       "      <td>1</td>\n",
       "      <td>0</td>\n",
       "      <td>0</td>\n",
       "      <td>0.207912</td>\n",
       "      <td>0.978148</td>\n",
       "      <td>0.965926</td>\n",
       "      <td>0.258819</td>\n",
       "    </tr>\n",
       "  </tbody>\n",
       "</table>\n",
       "</div>"
      ],
      "text/plain": [
       "   ERCOT (WIND_RTI)  ERCOT (GENERATION_SOLAR_RT)  ERCOT (RTLOAD)  \\\n",
       "0           2155.31                          0.0    29485.791355   \n",
       "1           2313.81                          0.0    28911.565913   \n",
       "2           2587.68                          0.0    28238.258175   \n",
       "3           2748.65                          0.0    27821.000513   \n",
       "4           2757.49                          0.0    27646.942413   \n",
       "\n",
       "   peaktype_OFFPEAK  peaktype_WDPEAK  Q_1  Q_2  Q_3   sin_day   cos_day  \\\n",
       "0                 1                0    1    0    0  0.207912  0.978148   \n",
       "1                 1                0    1    0    0  0.207912  0.978148   \n",
       "2                 1                0    1    0    0  0.207912  0.978148   \n",
       "3                 1                0    1    0    0  0.207912  0.978148   \n",
       "4                 1                0    1    0    0  0.207912  0.978148   \n",
       "\n",
       "   sin_hour  cos_hour  \n",
       "0  0.258819  0.965926  \n",
       "1  0.500000  0.866025  \n",
       "2  0.707107  0.707107  \n",
       "3  0.866025  0.500000  \n",
       "4  0.965926  0.258819  "
      ]
     },
     "execution_count": 101,
     "metadata": {},
     "output_type": "execute_result"
    }
   ],
   "source": [
    "X.head()"
   ]
  },
  {
   "cell_type": "markdown",
   "metadata": {},
   "source": [
    "## Model Development"
   ]
  },
  {
   "cell_type": "code",
   "execution_count": 119,
   "metadata": {},
   "outputs": [],
   "source": [
    "from sklearn.model_selection import train_test_split\n",
    "from sklearn.linear_model import Ridge\n",
    "from sklearn.ensemble import RandomForestRegressor\n",
    "from sklearn.metrics import mean_squared_error"
   ]
  },
  {
   "cell_type": "code",
   "execution_count": 102,
   "metadata": {},
   "outputs": [],
   "source": [
    "x_train, x_test, y_train, y_test = train_test_split(X, y)"
   ]
  },
  {
   "cell_type": "code",
   "execution_count": 103,
   "metadata": {},
   "outputs": [
    {
     "data": {
      "text/plain": [
       "0.10824900929861325"
      ]
     },
     "execution_count": 103,
     "metadata": {},
     "output_type": "execute_result"
    }
   ],
   "source": [
    "# compared two models, ridge regression and random forest regression, with r^2 and rmse\n",
    "ridge = Ridge().fit(x_train, y_train)\n",
    "r2_ridge = ridge.score(x_test, y_test)\n",
    "r2_ridge"
   ]
  },
  {
   "cell_type": "code",
   "execution_count": 122,
   "metadata": {},
   "outputs": [
    {
     "data": {
      "text/plain": [
       "38.894489266058535"
      ]
     },
     "execution_count": 122,
     "metadata": {},
     "output_type": "execute_result"
    }
   ],
   "source": [
    "ridge_preds = ridge.predict(x_test)\n",
    "ridge_mse = mean_squared_error(y_test, ridge_preds)\n",
    "np.sqrt(ridge_mse)"
   ]
  },
  {
   "cell_type": "code",
   "execution_count": 104,
   "metadata": {},
   "outputs": [
    {
     "data": {
      "text/plain": [
       "0.43367448540141196"
      ]
     },
     "execution_count": 104,
     "metadata": {},
     "output_type": "execute_result"
    }
   ],
   "source": [
    "rfr = RandomForestRegressor().fit(x_train, y_train)\n",
    "r2_rfr = rfr.score(x_test, y_test)\n",
    "r2_rfr"
   ]
  },
  {
   "cell_type": "code",
   "execution_count": 123,
   "metadata": {},
   "outputs": [
    {
     "data": {
      "text/plain": [
       "30.995549274482006"
      ]
     },
     "execution_count": 123,
     "metadata": {},
     "output_type": "execute_result"
    }
   ],
   "source": [
    "rfr_preds = rfr.predict(x_test)\n",
    "rfr_mse = mean_squared_error(y_test, rfr_preds)\n",
    "np.sqrt(rfr_mse)"
   ]
  },
  {
   "cell_type": "code",
   "execution_count": 111,
   "metadata": {},
   "outputs": [
    {
     "data": {
      "text/plain": [
       "ERCOT (RTLOAD)                 0.340\n",
       "ERCOT (GENERATION_SOLAR_RT)    0.292\n",
       "ERCOT (WIND_RTI)               0.140\n",
       "cos_day                        0.059\n",
       "sin_hour                       0.051\n",
       "sin_day                        0.040\n",
       "cos_hour                       0.028\n",
       "peaktype_WDPEAK                0.024\n",
       "Q_3                            0.013\n",
       "Q_2                            0.007\n",
       "Q_1                            0.006\n",
       "peaktype_OFFPEAK               0.001\n",
       "dtype: float64"
      ]
     },
     "execution_count": 111,
     "metadata": {},
     "output_type": "execute_result"
    }
   ],
   "source": [
    "# look at feature importance\n",
    "feature_importances = pd.Series(rfr.feature_importances_,index=X.columns)\n",
    "feature_importances.sort_values(ascending=False).round(3)"
   ]
  },
  {
   "cell_type": "code",
   "execution_count": 132,
   "metadata": {},
   "outputs": [
    {
     "data": {
      "image/png": "[encoded data removed]",
      "text/plain": [
       "<Figure size 432x288 with 1 Axes>"
      ]
     },
     "metadata": {
      "needs_background": "light"
     },
     "output_type": "display_data"
    }
   ],
   "source": [
    "# plot predictions\n",
    "plt.plot(rfr_preds)\n",
    "plt.show()"
   ]
  }
 ],
 "metadata": {
  "kernelspec": {
   "display_name": "Python 3",
   "language": "python",
   "name": "python3"
  },
  "language_info": {
   "codemirror_mode": {
    "name": "ipython",
    "version": 3
   },
   "file_extension": ".py",
   "mimetype": "text/x-python",
   "name": "python",
   "nbconvert_exporter": "python",
   "pygments_lexer": "ipython3",
   "version": "3.7.3"
  }
 },
 "nbformat": 4,
 "nbformat_minor": 2
}
